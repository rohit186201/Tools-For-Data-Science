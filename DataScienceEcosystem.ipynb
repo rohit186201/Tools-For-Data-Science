{
 "cells": [
  {
   "cell_type": "markdown",
   "id": "6b5307ea",
   "metadata": {},
   "source": [
    "# Data Science Tools and Ecosystem"
   ]
  },
  {
   "cell_type": "markdown",
   "id": "83cf992c",
   "metadata": {},
   "source": [
    "In this notebook data science tools and ecosystem are summarized"
   ]
  },
  {
   "cell_type": "markdown",
   "id": "1691d528",
   "metadata": {},
   "source": [
    "Popular language for data science are;\n",
    "\n",
    "1. Python\n",
    "2. R\n",
    "3. SQL\n",
    "4. C++\n",
    "5. Java"
   ]
  },
  {
   "cell_type": "markdown",
   "id": "5f94aa6f",
   "metadata": {},
   "source": [
    "Popular data science libraries are:\n",
    "\n",
    "1. Tensorflow\n",
    "2. NumPy\n",
    "3. SciPy\n",
    "4. Pandas\n",
    "5. Matplotlib\n",
    "6. Keras\n",
    "7. Pytorch"
   ]
  },
  {
   "cell_type": "markdown",
   "id": "2e4a92af",
   "metadata": {},
   "source": [
    "|Tools|\n",
    "|----|\n",
    "|Apache Hadoop|\n",
    "|Jupyter Notebook|\n",
    "|Watson Studio|\n",
    "|R Studio|\n",
    "|Anaconda|\n",
    "|Jupyter Lab|\n",
    "|Visual Studio|"
   ]
  },
  {
   "cell_type": "markdown",
   "id": "41c9cd53",
   "metadata": {},
   "source": [
    "# Arithmetic expression example"
   ]
  },
  {
   "cell_type": "code",
   "execution_count": 9,
   "id": "322ddf0b",
   "metadata": {},
   "outputs": [
    {
     "data": {
      "text/plain": [
       "117"
      ]
     },
     "execution_count": 9,
     "metadata": {},
     "output_type": "execute_result"
    }
   ],
   "source": [
    "#Multiply and Add Numbers\n",
    "(8+1)*(10+3)"
   ]
  },
  {
   "cell_type": "code",
   "execution_count": 17,
   "id": "9ba6d99b",
   "metadata": {},
   "outputs": [
    {
     "name": "stdout",
     "output_type": "stream",
     "text": [
      "Enter the minutes = 150\n",
      "Hours = 2.5\n"
     ]
    }
   ],
   "source": [
    "#Convert minutes to hours\n",
    "a=int(input(\"Enter the minutes = \"))\n",
    "b=a/60\n",
    "print(f\"Hours = {b}\")"
   ]
  },
  {
   "cell_type": "markdown",
   "id": "3b888f0f",
   "metadata": {},
   "source": [
    "_Objective_\n",
    "\n",
    "* List different languages used for Data Science\n",
    "* List different libraries used for Data Science\n",
    "* List different tools used for Data Science\n",
    "* Show Example for Aritmatic expression\n",
    "* Show Example to convert minutes to hours"
   ]
  },
  {
   "cell_type": "markdown",
   "id": "8bccfeac",
   "metadata": {},
   "source": [
    "## Author\n",
    "Rohit Rawat"
   ]
  }
 ],
 "metadata": {
  "kernelspec": {
   "display_name": "Python 3 (ipykernel)",
   "language": "python",
   "name": "python3"
  },
  "language_info": {
   "codemirror_mode": {
    "name": "ipython",
    "version": 3
   },
   "file_extension": ".py",
   "mimetype": "text/x-python",
   "name": "python",
   "nbconvert_exporter": "python",
   "pygments_lexer": "ipython3",
   "version": "3.11.5"
  }
 },
 "nbformat": 4,
 "nbformat_minor": 5
}
